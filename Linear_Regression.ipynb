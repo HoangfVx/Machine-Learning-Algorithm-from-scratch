{
  "nbformat": 4,
  "nbformat_minor": 0,
  "metadata": {
    "colab": {
      "provenance": []
    },
    "kernelspec": {
      "name": "python3",
      "display_name": "Python 3"
    },
    "language_info": {
      "name": "python"
    }
  },
  "cells": [
    {
      "cell_type": "markdown",
      "source": [
        "#Import needed libraries"
      ],
      "metadata": {
        "id": "yggVgzxybL5n"
      }
    },
    {
      "cell_type": "code",
      "execution_count": 1,
      "metadata": {
        "id": "8QTpLUIP19Ao"
      },
      "outputs": [],
      "source": [
        "import pandas as pd\n",
        "import seaborn as sbn\n",
        "import numpy as np\n",
        "from sklearn.model_selection import train_test_split\n",
        "import matplotlib.pyplot as plt\n",
        "from sklearn.preprocessing import LabelEncoder\n",
        "from sklearn.preprocessing import MinMaxScaler\n",
        "from sklearn.preprocessing import StandardScaler\n",
        "from sklearn.linear_model import LinearRegression\n",
        "from sklearn.metrics import  r2_score as R2"
      ]
    },
    {
      "cell_type": "markdown",
      "source": [
        "#Preprocess data"
      ],
      "metadata": {
        "id": "deW4-B8LbYRZ"
      }
    },
    {
      "cell_type": "code",
      "source": [
        "dataset = pd.read_csv('/content/tesla_stock.csv')\n",
        "dataset.head()"
      ],
      "metadata": {
        "colab": {
          "base_uri": "https://localhost:8080/",
          "height": 206
        },
        "id": "jxOZjAgd2MWd",
        "outputId": "0429c0d1-71d0-447e-eb51-771f85604d64"
      },
      "execution_count": 2,
      "outputs": [
        {
          "output_type": "execute_result",
          "data": {
            "text/plain": [
              "        Open   High        Low      Close    Volume\n",
              "0  19.000000  25.00  17.540001  23.889999  18766300\n",
              "1  25.790001  30.42  23.299999  23.830000  17187100\n",
              "2  25.000000  25.92  20.270000  21.959999   8218800\n",
              "3  23.000000  23.10  18.709999  19.200001   5139800\n",
              "4  20.000000  20.00  15.830000  16.110001   6866900"
            ],
            "text/html": [
              "\n",
              "  <div id=\"df-74b3cdfb-5435-4756-a244-a8e53994aa15\">\n",
              "    <div class=\"colab-df-container\">\n",
              "      <div>\n",
              "<style scoped>\n",
              "    .dataframe tbody tr th:only-of-type {\n",
              "        vertical-align: middle;\n",
              "    }\n",
              "\n",
              "    .dataframe tbody tr th {\n",
              "        vertical-align: top;\n",
              "    }\n",
              "\n",
              "    .dataframe thead th {\n",
              "        text-align: right;\n",
              "    }\n",
              "</style>\n",
              "<table border=\"1\" class=\"dataframe\">\n",
              "  <thead>\n",
              "    <tr style=\"text-align: right;\">\n",
              "      <th></th>\n",
              "      <th>Open</th>\n",
              "      <th>High</th>\n",
              "      <th>Low</th>\n",
              "      <th>Close</th>\n",
              "      <th>Volume</th>\n",
              "    </tr>\n",
              "  </thead>\n",
              "  <tbody>\n",
              "    <tr>\n",
              "      <th>0</th>\n",
              "      <td>19.000000</td>\n",
              "      <td>25.00</td>\n",
              "      <td>17.540001</td>\n",
              "      <td>23.889999</td>\n",
              "      <td>18766300</td>\n",
              "    </tr>\n",
              "    <tr>\n",
              "      <th>1</th>\n",
              "      <td>25.790001</td>\n",
              "      <td>30.42</td>\n",
              "      <td>23.299999</td>\n",
              "      <td>23.830000</td>\n",
              "      <td>17187100</td>\n",
              "    </tr>\n",
              "    <tr>\n",
              "      <th>2</th>\n",
              "      <td>25.000000</td>\n",
              "      <td>25.92</td>\n",
              "      <td>20.270000</td>\n",
              "      <td>21.959999</td>\n",
              "      <td>8218800</td>\n",
              "    </tr>\n",
              "    <tr>\n",
              "      <th>3</th>\n",
              "      <td>23.000000</td>\n",
              "      <td>23.10</td>\n",
              "      <td>18.709999</td>\n",
              "      <td>19.200001</td>\n",
              "      <td>5139800</td>\n",
              "    </tr>\n",
              "    <tr>\n",
              "      <th>4</th>\n",
              "      <td>20.000000</td>\n",
              "      <td>20.00</td>\n",
              "      <td>15.830000</td>\n",
              "      <td>16.110001</td>\n",
              "      <td>6866900</td>\n",
              "    </tr>\n",
              "  </tbody>\n",
              "</table>\n",
              "</div>\n",
              "      <button class=\"colab-df-convert\" onclick=\"convertToInteractive('df-74b3cdfb-5435-4756-a244-a8e53994aa15')\"\n",
              "              title=\"Convert this dataframe to an interactive table.\"\n",
              "              style=\"display:none;\">\n",
              "        \n",
              "  <svg xmlns=\"http://www.w3.org/2000/svg\" height=\"24px\"viewBox=\"0 0 24 24\"\n",
              "       width=\"24px\">\n",
              "    <path d=\"M0 0h24v24H0V0z\" fill=\"none\"/>\n",
              "    <path d=\"M18.56 5.44l.94 2.06.94-2.06 2.06-.94-2.06-.94-.94-2.06-.94 2.06-2.06.94zm-11 1L8.5 8.5l.94-2.06 2.06-.94-2.06-.94L8.5 2.5l-.94 2.06-2.06.94zm10 10l.94 2.06.94-2.06 2.06-.94-2.06-.94-.94-2.06-.94 2.06-2.06.94z\"/><path d=\"M17.41 7.96l-1.37-1.37c-.4-.4-.92-.59-1.43-.59-.52 0-1.04.2-1.43.59L10.3 9.45l-7.72 7.72c-.78.78-.78 2.05 0 2.83L4 21.41c.39.39.9.59 1.41.59.51 0 1.02-.2 1.41-.59l7.78-7.78 2.81-2.81c.8-.78.8-2.07 0-2.86zM5.41 20L4 18.59l7.72-7.72 1.47 1.35L5.41 20z\"/>\n",
              "  </svg>\n",
              "      </button>\n",
              "      \n",
              "  <style>\n",
              "    .colab-df-container {\n",
              "      display:flex;\n",
              "      flex-wrap:wrap;\n",
              "      gap: 12px;\n",
              "    }\n",
              "\n",
              "    .colab-df-convert {\n",
              "      background-color: #E8F0FE;\n",
              "      border: none;\n",
              "      border-radius: 50%;\n",
              "      cursor: pointer;\n",
              "      display: none;\n",
              "      fill: #1967D2;\n",
              "      height: 32px;\n",
              "      padding: 0 0 0 0;\n",
              "      width: 32px;\n",
              "    }\n",
              "\n",
              "    .colab-df-convert:hover {\n",
              "      background-color: #E2EBFA;\n",
              "      box-shadow: 0px 1px 2px rgba(60, 64, 67, 0.3), 0px 1px 3px 1px rgba(60, 64, 67, 0.15);\n",
              "      fill: #174EA6;\n",
              "    }\n",
              "\n",
              "    [theme=dark] .colab-df-convert {\n",
              "      background-color: #3B4455;\n",
              "      fill: #D2E3FC;\n",
              "    }\n",
              "\n",
              "    [theme=dark] .colab-df-convert:hover {\n",
              "      background-color: #434B5C;\n",
              "      box-shadow: 0px 1px 3px 1px rgba(0, 0, 0, 0.15);\n",
              "      filter: drop-shadow(0px 1px 2px rgba(0, 0, 0, 0.3));\n",
              "      fill: #FFFFFF;\n",
              "    }\n",
              "  </style>\n",
              "\n",
              "      <script>\n",
              "        const buttonEl =\n",
              "          document.querySelector('#df-74b3cdfb-5435-4756-a244-a8e53994aa15 button.colab-df-convert');\n",
              "        buttonEl.style.display =\n",
              "          google.colab.kernel.accessAllowed ? 'block' : 'none';\n",
              "\n",
              "        async function convertToInteractive(key) {\n",
              "          const element = document.querySelector('#df-74b3cdfb-5435-4756-a244-a8e53994aa15');\n",
              "          const dataTable =\n",
              "            await google.colab.kernel.invokeFunction('convertToInteractive',\n",
              "                                                     [key], {});\n",
              "          if (!dataTable) return;\n",
              "\n",
              "          const docLinkHtml = 'Like what you see? Visit the ' +\n",
              "            '<a target=\"_blank\" href=https://colab.research.google.com/notebooks/data_table.ipynb>data table notebook</a>'\n",
              "            + ' to learn more about interactive tables.';\n",
              "          element.innerHTML = '';\n",
              "          dataTable['output_type'] = 'display_data';\n",
              "          await google.colab.output.renderOutput(dataTable, element);\n",
              "          const docLink = document.createElement('div');\n",
              "          docLink.innerHTML = docLinkHtml;\n",
              "          element.appendChild(docLink);\n",
              "        }\n",
              "      </script>\n",
              "    </div>\n",
              "  </div>\n",
              "  "
            ]
          },
          "metadata": {},
          "execution_count": 2
        }
      ]
    },
    {
      "cell_type": "code",
      "source": [
        "#Remove 'NaN', 'None', ... values\n",
        "dataset.dropna(inplace = True)"
      ],
      "metadata": {
        "id": "p7fE1G632NDp"
      },
      "execution_count": 3,
      "outputs": []
    },
    {
      "cell_type": "code",
      "source": [
        "#Find outliers\n",
        "fig, axs = plt.subplots(2, 3)\n",
        "axs[0, 0].boxplot(dataset['Open'])\n",
        "axs[0, 0].set_title('Open')\n",
        "\n",
        "axs[0, 1].boxplot(dataset['Close'])\n",
        "axs[0, 1].set_title('Open')\n",
        "\n",
        "axs[0, 2].boxplot(dataset['High'])\n",
        "axs[0, 2].set_title('High')\n",
        "\n",
        "axs[1, 0].boxplot(dataset['Low'])\n",
        "axs[1, 0].set_title('Low')\n",
        "\n",
        "axs[1, 1].boxplot(dataset['Volume'])\n",
        "axs[1, 1].set_title('Volume')\n",
        "\n",
        "fig.subplots_adjust(left=0.08, right=0.98, bottom=0.05, top=0.9,\n",
        "                    hspace=0.4, wspace=0.3)"
      ],
      "metadata": {
        "colab": {
          "base_uri": "https://localhost:8080/",
          "height": 309
        },
        "id": "6XkKp1a2O1DF",
        "outputId": "a8f5afdf-2cab-49d7-9f3a-17be2d84e79b"
      },
      "execution_count": 4,
      "outputs": [
        {
          "output_type": "display_data",
          "data": {
            "text/plain": [
              "<Figure size 432x288 with 6 Axes>"
            ],
            "image/png": "[encoded data removed]"
          },
          "metadata": {
            "needs_background": "light"
          }
        }
      ]
    },
    {
      "cell_type": "code",
      "source": [
        "#Remove outliers\n",
        "for i in dataset.columns:\n",
        "  Q1 = dataset[i].quantile(0.25)\n",
        "  Q3 = dataset[i].quantile(0.75)\n",
        "  IQR = Q3 - Q1\n",
        "\n",
        "  low_fence = Q1 - 1.5 * IQR\n",
        "  up_fence = Q3 + 1.5 * IQR\n",
        "\n",
        "  dataset = dataset[~((dataset[i] < low_fence) | (dataset[i] > up_fence))]"
      ],
      "metadata": {
        "id": "_Miw1SrB2aoG"
      },
      "execution_count": 5,
      "outputs": []
    },
    {
      "cell_type": "code",
      "source": [
        "#Normalize data\n",
        "min_max_scaler = MinMaxScaler()\n",
        "dataset[['Open']] = min_max_scaler.fit_transform(dataset[['Open']])\n",
        "dataset[['High']] = min_max_scaler.fit_transform(dataset[['High']])\n",
        "dataset[['Low']] = min_max_scaler.fit_transform(dataset[['Low']])\n",
        "dataset[['Volume']] = min_max_scaler.fit_transform(dataset[['Volume']])\n",
        "dataset[['Close']] = min_max_scaler.fit_transform(dataset[['Close']])"
      ],
      "metadata": {
        "id": "jKOYryBj2arL"
      },
      "execution_count": 6,
      "outputs": []
    },
    {
      "cell_type": "code",
      "source": [
        "dataset"
      ],
      "metadata": {
        "colab": {
          "base_uri": "https://localhost:8080/",
          "height": 424
        },
        "id": "8iBZkmO72atb",
        "outputId": "cb2b999f-a044-4c19-be2f-0ecc0449b575"
      },
      "execution_count": 7,
      "outputs": [
        {
          "output_type": "execute_result",
          "data": {
            "text/plain": [
              "          Open      High       Low     Close    Volume\n",
              "2     0.015979  0.016584  0.009740  0.011178  0.531648\n",
              "3     0.012372  0.011550  0.006868  0.006169  0.329564\n",
              "4     0.006961  0.006016  0.001565  0.000563  0.442919\n",
              "5     0.000469  0.000000  0.000000  0.000000  0.446516\n",
              "6     0.000000  0.001589  0.001086  0.003012  0.498346\n",
              "...        ...       ...       ...       ...       ...\n",
              "2400  0.839781  0.835999  0.844633  0.838958  0.842795\n",
              "2405  0.886346  0.890856  0.898877  0.897659  0.886743\n",
              "2409  1.000000  0.994734  0.992966  0.996226  0.934295\n",
              "2410  0.948349  0.977918  0.965384  0.983887  0.885365\n",
              "2411  0.996141  1.000000  1.000000  1.000000  0.765939\n",
              "\n",
              "[2306 rows x 5 columns]"
            ],
            "text/html": [
              "\n",
              "  <div id=\"df-27385f84-bfff-4a50-a55f-95355072f42c\">\n",
              "    <div class=\"colab-df-container\">\n",
              "      <div>\n",
              "<style scoped>\n",
              "    .dataframe tbody tr th:only-of-type {\n",
              "        vertical-align: middle;\n",
              "    }\n",
              "\n",
              "    .dataframe tbody tr th {\n",
              "        vertical-align: top;\n",
              "    }\n",
              "\n",
              "    .dataframe thead th {\n",
              "        text-align: right;\n",
              "    }\n",
              "</style>\n",
              "<table border=\"1\" class=\"dataframe\">\n",
              "  <thead>\n",
              "    <tr style=\"text-align: right;\">\n",
              "      <th></th>\n",
              "      <th>Open</th>\n",
              "      <th>High</th>\n",
              "      <th>Low</th>\n",
              "      <th>Close</th>\n",
              "      <th>Volume</th>\n",
              "    </tr>\n",
              "  </thead>\n",
              "  <tbody>\n",
              "    <tr>\n",
              "      <th>2</th>\n",
              "      <td>0.015979</td>\n",
              "      <td>0.016584</td>\n",
              "      <td>0.009740</td>\n",
              "      <td>0.011178</td>\n",
              "      <td>0.531648</td>\n",
              "    </tr>\n",
              "    <tr>\n",
              "      <th>3</th>\n",
              "      <td>0.012372</td>\n",
              "      <td>0.011550</td>\n",
              "      <td>0.006868</td>\n",
              "      <td>0.006169</td>\n",
              "      <td>0.329564</td>\n",
              "    </tr>\n",
              "    <tr>\n",
              "      <th>4</th>\n",
              "      <td>0.006961</td>\n",
              "      <td>0.006016</td>\n",
              "      <td>0.001565</td>\n",
              "      <td>0.000563</td>\n",
              "      <td>0.442919</td>\n",
              "    </tr>\n",
              "    <tr>\n",
              "      <th>5</th>\n",
              "      <td>0.000469</td>\n",
              "      <td>0.000000</td>\n",
              "      <td>0.000000</td>\n",
              "      <td>0.000000</td>\n",
              "      <td>0.446516</td>\n",
              "    </tr>\n",
              "    <tr>\n",
              "      <th>6</th>\n",
              "      <td>0.000000</td>\n",
              "      <td>0.001589</td>\n",
              "      <td>0.001086</td>\n",
              "      <td>0.003012</td>\n",
              "      <td>0.498346</td>\n",
              "    </tr>\n",
              "    <tr>\n",
              "      <th>...</th>\n",
              "      <td>...</td>\n",
              "      <td>...</td>\n",
              "      <td>...</td>\n",
              "      <td>...</td>\n",
              "      <td>...</td>\n",
              "    </tr>\n",
              "    <tr>\n",
              "      <th>2400</th>\n",
              "      <td>0.839781</td>\n",
              "      <td>0.835999</td>\n",
              "      <td>0.844633</td>\n",
              "      <td>0.838958</td>\n",
              "      <td>0.842795</td>\n",
              "    </tr>\n",
              "    <tr>\n",
              "      <th>2405</th>\n",
              "      <td>0.886346</td>\n",
              "      <td>0.890856</td>\n",
              "      <td>0.898877</td>\n",
              "      <td>0.897659</td>\n",
              "      <td>0.886743</td>\n",
              "    </tr>\n",
              "    <tr>\n",
              "      <th>2409</th>\n",
              "      <td>1.000000</td>\n",
              "      <td>0.994734</td>\n",
              "      <td>0.992966</td>\n",
              "      <td>0.996226</td>\n",
              "      <td>0.934295</td>\n",
              "    </tr>\n",
              "    <tr>\n",
              "      <th>2410</th>\n",
              "      <td>0.948349</td>\n",
              "      <td>0.977918</td>\n",
              "      <td>0.965384</td>\n",
              "      <td>0.983887</td>\n",
              "      <td>0.885365</td>\n",
              "    </tr>\n",
              "    <tr>\n",
              "      <th>2411</th>\n",
              "      <td>0.996141</td>\n",
              "      <td>1.000000</td>\n",
              "      <td>1.000000</td>\n",
              "      <td>1.000000</td>\n",
              "      <td>0.765939</td>\n",
              "    </tr>\n",
              "  </tbody>\n",
              "</table>\n",
              "<p>2306 rows × 5 columns</p>\n",
              "</div>\n",
              "      <button class=\"colab-df-convert\" onclick=\"convertToInteractive('df-27385f84-bfff-4a50-a55f-95355072f42c')\"\n",
              "              title=\"Convert this dataframe to an interactive table.\"\n",
              "              style=\"display:none;\">\n",
              "        \n",
              "  <svg xmlns=\"http://www.w3.org/2000/svg\" height=\"24px\"viewBox=\"0 0 24 24\"\n",
              "       width=\"24px\">\n",
              "    <path d=\"M0 0h24v24H0V0z\" fill=\"none\"/>\n",
              "    <path d=\"M18.56 5.44l.94 2.06.94-2.06 2.06-.94-2.06-.94-.94-2.06-.94 2.06-2.06.94zm-11 1L8.5 8.5l.94-2.06 2.06-.94-2.06-.94L8.5 2.5l-.94 2.06-2.06.94zm10 10l.94 2.06.94-2.06 2.06-.94-2.06-.94-.94-2.06-.94 2.06-2.06.94z\"/><path d=\"M17.41 7.96l-1.37-1.37c-.4-.4-.92-.59-1.43-.59-.52 0-1.04.2-1.43.59L10.3 9.45l-7.72 7.72c-.78.78-.78 2.05 0 2.83L4 21.41c.39.39.9.59 1.41.59.51 0 1.02-.2 1.41-.59l7.78-7.78 2.81-2.81c.8-.78.8-2.07 0-2.86zM5.41 20L4 18.59l7.72-7.72 1.47 1.35L5.41 20z\"/>\n",
              "  </svg>\n",
              "      </button>\n",
              "      \n",
              "  <style>\n",
              "    .colab-df-container {\n",
              "      display:flex;\n",
              "      flex-wrap:wrap;\n",
              "      gap: 12px;\n",
              "    }\n",
              "\n",
              "    .colab-df-convert {\n",
              "      background-color: #E8F0FE;\n",
              "      border: none;\n",
              "      border-radius: 50%;\n",
              "      cursor: pointer;\n",
              "      display: none;\n",
              "      fill: #1967D2;\n",
              "      height: 32px;\n",
              "      padding: 0 0 0 0;\n",
              "      width: 32px;\n",
              "    }\n",
              "\n",
              "    .colab-df-convert:hover {\n",
              "      background-color: #E2EBFA;\n",
              "      box-shadow: 0px 1px 2px rgba(60, 64, 67, 0.3), 0px 1px 3px 1px rgba(60, 64, 67, 0.15);\n",
              "      fill: #174EA6;\n",
              "    }\n",
              "\n",
              "    [theme=dark] .colab-df-convert {\n",
              "      background-color: #3B4455;\n",
              "      fill: #D2E3FC;\n",
              "    }\n",
              "\n",
              "    [theme=dark] .colab-df-convert:hover {\n",
              "      background-color: #434B5C;\n",
              "      box-shadow: 0px 1px 3px 1px rgba(0, 0, 0, 0.15);\n",
              "      filter: drop-shadow(0px 1px 2px rgba(0, 0, 0, 0.3));\n",
              "      fill: #FFFFFF;\n",
              "    }\n",
              "  </style>\n",
              "\n",
              "      <script>\n",
              "        const buttonEl =\n",
              "          document.querySelector('#df-27385f84-bfff-4a50-a55f-95355072f42c button.colab-df-convert');\n",
              "        buttonEl.style.display =\n",
              "          google.colab.kernel.accessAllowed ? 'block' : 'none';\n",
              "\n",
              "        async function convertToInteractive(key) {\n",
              "          const element = document.querySelector('#df-27385f84-bfff-4a50-a55f-95355072f42c');\n",
              "          const dataTable =\n",
              "            await google.colab.kernel.invokeFunction('convertToInteractive',\n",
              "                                                     [key], {});\n",
              "          if (!dataTable) return;\n",
              "\n",
              "          const docLinkHtml = 'Like what you see? Visit the ' +\n",
              "            '<a target=\"_blank\" href=https://colab.research.google.com/notebooks/data_table.ipynb>data table notebook</a>'\n",
              "            + ' to learn more about interactive tables.';\n",
              "          element.innerHTML = '';\n",
              "          dataTable['output_type'] = 'display_data';\n",
              "          await google.colab.output.renderOutput(dataTable, element);\n",
              "          const docLink = document.createElement('div');\n",
              "          docLink.innerHTML = docLinkHtml;\n",
              "          element.appendChild(docLink);\n",
              "        }\n",
              "      </script>\n",
              "    </div>\n",
              "  </div>\n",
              "  "
            ]
          },
          "metadata": {},
          "execution_count": 7
        }
      ]
    },
    {
      "cell_type": "markdown",
      "source": [
        "#Linear Regression Implementation"
      ],
      "metadata": {
        "id": "XCbDUZ-7UG87"
      }
    },
    {
      "cell_type": "code",
      "source": [
        "class LinearRegression_GD:\n",
        "  def __init__(self, eta = 0.001, max_iter = 20, random_state = 21522786): #21522786 is my student ID, lmao :)))\n",
        "    self.eta = eta\n",
        "    self.max_iter = max_iter \n",
        "    self.random_state = random_state\n",
        "    self.w = None\n",
        "    self.costs = []\n",
        "\n",
        "  def predict(self, X):\n",
        "    return np.dot(X, self.w[1:]) + self.w[0]\n",
        "\n",
        "  def fit(self, X, y):\n",
        "    rgen = np.random.RandomState(self.random_state)\n",
        "    self.w = rgen.normal(loc = 0.0, scale = 0.01, size = 1 + X.shape[1])\n",
        "    self.costs = []\n",
        "    for n_iters in range(self.max_iter):\n",
        "      y_pred = self.predict(X)\n",
        "      diff = y - y_pred\n",
        "      #Update the parameters with gradient descent\n",
        "      self.w[0] += self.eta * np.sum(diff)\n",
        "      self.w[1:] += self.eta * np.dot(X.T, diff)\n",
        "      cost = np.sum(diff ** 2) / 2 # Compute the cost value\n",
        "      self.costs.append(cost)      "
      ],
      "metadata": {
        "id": "flktgiXl_Cql"
      },
      "execution_count": 8,
      "outputs": []
    },
    {
      "cell_type": "markdown",
      "source": [
        "#Train Model"
      ],
      "metadata": {
        "id": "lH-NTB-RUYM5"
      }
    },
    {
      "cell_type": "code",
      "source": [
        "y = dataset['Close']\n",
        "X = dataset[['Open', 'High', 'Low', 'Volume']]"
      ],
      "metadata": {
        "id": "o5lg10nz3YWy"
      },
      "execution_count": 9,
      "outputs": []
    },
    {
      "cell_type": "code",
      "source": [
        "X_train, X_test, y_train, y_test = train_test_split(X, y, test_size = 0.3, random_state = 21522786)"
      ],
      "metadata": {
        "id": "um0Y-pHX3YcC"
      },
      "execution_count": 10,
      "outputs": []
    },
    {
      "cell_type": "code",
      "source": [
        "reg_GD = LinearRegression_GD(eta = 0.0005, max_iter = 200, random_state = 21522786)\n",
        "reg_GD.fit(X_train, y_train)\n",
        "reg_GD.w"
      ],
      "metadata": {
        "colab": {
          "base_uri": "https://localhost:8080/"
        },
        "id": "WlQhznT_3Ye8",
        "outputId": "6734d4a7-27df-4fa2-d2e6-ec1c202ed105"
      },
      "execution_count": 11,
      "outputs": [
        {
          "output_type": "execute_result",
          "data": {
            "text/plain": [
              "array([-3.35274660e-05,  3.24727183e-01,  3.37967059e-01,  3.38571795e-01,\n",
              "        2.80964904e-03])"
            ]
          },
          "metadata": {},
          "execution_count": 11
        }
      ]
    },
    {
      "cell_type": "markdown",
      "source": [
        "#Visualize the trend in the cost values"
      ],
      "metadata": {
        "id": "-MEZ3LLxWSlg"
      }
    },
    {
      "cell_type": "code",
      "source": [
        "plt.plot(range(1, len(reg_GD.costs) + 1), reg_GD.costs)\n",
        "plt.xlabel('Epochs')\n",
        "plt.ylabel('Cost')\n",
        "plt.title('Gradient descent')\n",
        "plt.show()"
      ],
      "metadata": {
        "colab": {
          "base_uri": "https://localhost:8080/",
          "height": 295
        },
        "id": "z-5xmwRm3YiA",
        "outputId": "f5254863-feec-48be-d826-aae5fef4b1ff"
      },
      "execution_count": 12,
      "outputs": [
        {
          "output_type": "display_data",
          "data": {
            "text/plain": [
              "<Figure size 432x288 with 1 Axes>"
            ],
            "image/png": "[encoded data removed]"
          },
          "metadata": {
            "needs_background": "light"
          }
        }
      ]
    },
    {
      "cell_type": "markdown",
      "source": [
        "#Compare with built-in Gradient Descent (using Normal Equation)"
      ],
      "metadata": {
        "id": "mxuuu_q5eV-4"
      }
    },
    {
      "cell_type": "code",
      "source": [
        "predicted_GD = reg_GD.predict(X_test)"
      ],
      "metadata": {
        "id": "VyNDpI1u4l5a"
      },
      "execution_count": 15,
      "outputs": []
    },
    {
      "cell_type": "code",
      "source": [
        "print(\"R2 of GD: \", R2(y_test, predicted_GD))"
      ],
      "metadata": {
        "colab": {
          "base_uri": "https://localhost:8080/"
        },
        "id": "aK0HYcJJ4l8i",
        "outputId": "6ff28fb4-0096-4f5e-8dbe-90f70fddf60f"
      },
      "execution_count": 16,
      "outputs": [
        {
          "output_type": "stream",
          "name": "stdout",
          "text": [
            "R2 of GD:  0.9993305202517967\n"
          ]
        }
      ]
    },
    {
      "cell_type": "code",
      "source": [
        "reg_NE = LinearRegression()\n",
        "reg_NE.fit(X_train, y_train)\n",
        "w_NE = np.append(reg_NE.intercept_, reg_NE.coef_)\n",
        "w_NE"
      ],
      "metadata": {
        "colab": {
          "base_uri": "https://localhost:8080/"
        },
        "id": "zgbocMmz4l-l",
        "outputId": "075249f5-3fff-4403-a43c-7655dcb9ffd8"
      },
      "execution_count": 17,
      "outputs": [
        {
          "output_type": "execute_result",
          "data": {
            "text/plain": [
              "array([-3.25513249e-04, -6.31825050e-01,  8.89918746e-01,  7.40331470e-01,\n",
              "        4.23048732e-04])"
            ]
          },
          "metadata": {},
          "execution_count": 17
        }
      ]
    },
    {
      "cell_type": "code",
      "source": [
        "predicted_NE = reg_NE.predict(X_test)"
      ],
      "metadata": {
        "id": "HbqOBfL05I9c"
      },
      "execution_count": 18,
      "outputs": []
    },
    {
      "cell_type": "code",
      "source": [
        "print(\"R2 of NE: \", R2(y_test, predicted_NE))"
      ],
      "metadata": {
        "colab": {
          "base_uri": "https://localhost:8080/"
        },
        "id": "eWxog2R5b6sN",
        "outputId": "d4e50297-23bb-412f-ed2c-397797a1cbd3"
      },
      "execution_count": 19,
      "outputs": [
        {
          "output_type": "stream",
          "name": "stdout",
          "text": [
            "R2 of NE:  0.9997216739330268\n"
          ]
        }
      ]
    }
  ]
}